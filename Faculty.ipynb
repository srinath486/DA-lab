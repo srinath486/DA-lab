{
 "cells": [
  {
   "cell_type": "code",
   "execution_count": 2,
   "metadata": {},
   "outputs": [
    {
     "name": "stdout",
     "output_type": "stream",
     "text": [
      "Dr Archana Krishnan\n",
      "Dr KRISHNAVENI R\n",
      "Dr MANJU P GEORGE\n",
      "Dr Nandagopal R\n",
      "Dr RAMKUMAR N\n",
      " Dr Srigayathri Devi K\n",
      "Dr SRIVIDYA V\n",
      "Dr VIJAYA T G\n"
     ]
    }
   ],
   "source": [
    "import requests\n",
    "from bs4 import BeautifulSoup\n",
    " \n",
    "def Doctorates():  \n",
    "    url='http://psgim.ac.in/2017/01/full-time-faculty/'\n",
    "\n",
    "    resp=requests.get(url)\n",
    "    \n",
    "    if resp.status_code==200:\n",
    "\n",
    "        soup=BeautifulSoup(resp.text,'html.parser')    \n",
    "  \n",
    "        l=soup.find(\"div\",{\"class\":\"wpb_wrapper\"})\n",
    "     \n",
    "        for i in l.findAll(\"a\"):\n",
    "            str=i.text\n",
    "            if \"Dr\" in str:\n",
    "                print(str)\n",
    "       \n",
    "        \n",
    "    else:\n",
    "        print(\"Error\")\n",
    "         \n",
    "Doctorates()"
   ]
  },
  {
   "cell_type": "code",
   "execution_count": null,
   "metadata": {},
   "outputs": [],
   "source": []
  }
 ],
 "metadata": {
  "kernelspec": {
   "display_name": "Python 3",
   "language": "python",
   "name": "python3"
  },
  "language_info": {
   "codemirror_mode": {
    "name": "ipython",
    "version": 3
   },
   "file_extension": ".py",
   "mimetype": "text/x-python",
   "name": "python",
   "nbconvert_exporter": "python",
   "pygments_lexer": "ipython3",
   "version": "3.6.5"
  }
 },
 "nbformat": 4,
 "nbformat_minor": 2
}
